{
  "nbformat": 4,
  "nbformat_minor": 0,
  "metadata": {
    "colab": {
      "provenance": [],
      "authorship_tag": "ABX9TyMBF9CHO0nznOqrUfTgLqzM",
      "include_colab_link": true
    },
    "kernelspec": {
      "name": "python3",
      "display_name": "Python 3"
    },
    "language_info": {
      "name": "python"
    }
  },
  "cells": [
    {
      "cell_type": "markdown",
      "metadata": {
        "id": "view-in-github",
        "colab_type": "text"
      },
      "source": [
        "<a href=\"https://colab.research.google.com/github/tashir0605/Cocepts-And-Practice/blob/main/Statistics/PDF_PMF_CDF.ipynb\" target=\"_parent\"><img src=\"https://colab.research.google.com/assets/colab-badge.svg\" alt=\"Open In Colab\"/></a>"
      ]
    },
    {
      "cell_type": "markdown",
      "source": [
        "# Parametric Density Estimation"
      ],
      "metadata": {
        "id": "6aybZ6NlF3k3"
      }
    },
    {
      "cell_type": "code",
      "execution_count": 2,
      "metadata": {
        "id": "5UwA-ml1EZP9"
      },
      "outputs": [],
      "source": [
        "import numpy as np\n",
        "import matplotlib.pyplot as plt\n",
        "from numpy.random import normal\n",
        "# Mean=50 and standard deviation =5 this data has been produced in the next line with 1000 points\n",
        "sample=normal(loc=50 , scale =5, size=1000)"
      ]
    },
    {
      "cell_type": "code",
      "source": [
        "sample"
      ],
      "metadata": {
        "id": "BqH8Kh0aGqPK",
        "outputId": "e7b21d8b-622e-4ee0-99d0-72e99f35f5e2",
        "colab": {
          "base_uri": "https://localhost:8080/"
        }
      },
      "execution_count": 3,
      "outputs": [
        {
          "output_type": "execute_result",
          "data": {
            "text/plain": [
              "array([52.1472941 , 45.53970387, 65.44319511, 51.62600882, 45.07352827,\n",
              "       52.14548323, 53.68306369, 63.03628678, 52.53286254, 55.27550597,\n",
              "       46.72844595, 62.56983366, 50.34831468, 50.69693432, 56.87475406,\n",
              "       45.863461  , 54.46119462, 59.97533693, 55.25821808, 50.87569249,\n",
              "       51.95289548, 45.50983567, 50.55252672, 46.71376852, 57.74891589,\n",
              "       47.98015961, 61.74260982, 51.00644948, 48.83677376, 52.19068802,\n",
              "       45.3855984 , 49.31277772, 43.09618215, 54.62146005, 47.32514462,\n",
              "       55.07514329, 50.0196041 , 60.3106769 , 53.76845054, 47.9381344 ,\n",
              "       47.64765525, 51.84381966, 48.78064509, 59.79485045, 49.90287628,\n",
              "       47.90816647, 50.54108825, 51.74297104, 53.10448409, 52.8041962 ,\n",
              "       48.0457155 , 48.24357834, 44.86725567, 40.37205443, 57.13680828,\n",
              "       57.36209199, 38.96230942, 47.04357762, 53.92292482, 48.65657423,\n",
              "       55.48211897, 41.6204367 , 52.26618233, 52.03964915, 48.78922839,\n",
              "       50.45232672, 47.12595614, 48.20016123, 51.61516276, 47.02648162,\n",
              "       51.94347921, 50.69284123, 52.25208263, 53.31546563, 54.17473885,\n",
              "       43.23951722, 54.03739558, 51.93061471, 51.47133081, 55.37966777,\n",
              "       49.92094305, 51.04087522, 47.54657203, 35.86860839, 43.73151764,\n",
              "       46.24409647, 50.3593101 , 49.48926097, 40.92090616, 58.18695004,\n",
              "       55.66097245, 51.86609293, 53.18287264, 46.86597822, 52.18518521,\n",
              "       56.14855994, 53.47562388, 48.63249312, 54.30245058, 46.97418476,\n",
              "       51.16927745, 51.29603737, 49.19693117, 49.60215472, 55.60704376,\n",
              "       47.07676848, 46.27113781, 49.03341435, 54.16090918, 53.13595616,\n",
              "       53.50043142, 44.30792762, 55.03929824, 42.19917715, 51.52078317,\n",
              "       56.89467857, 51.25345786, 44.81615644, 49.37957809, 51.53830538,\n",
              "       51.77425143, 47.51546404, 52.18108364, 48.41341113, 39.86411971,\n",
              "       44.93758299, 43.21639215, 48.74123771, 48.90365469, 47.80775611,\n",
              "       51.18688521, 52.11072096, 55.55418117, 45.10231625, 50.81568867,\n",
              "       49.7474963 , 61.26080618, 44.40549433, 44.42656264, 47.27641789,\n",
              "       44.5983682 , 46.33891346, 53.43113381, 55.07893371, 56.12246452,\n",
              "       50.62908945, 52.17862205, 52.04589491, 54.80756051, 41.95403173,\n",
              "       49.66170046, 46.08855369, 52.38345277, 36.9505729 , 44.63214708,\n",
              "       46.02664018, 50.1377829 , 52.79498116, 37.07368531, 50.03738229,\n",
              "       49.92585177, 54.77580618, 55.2009145 , 54.21230749, 55.47553584,\n",
              "       54.9412559 , 32.85789948, 49.27948577, 59.6322619 , 43.28727267,\n",
              "       49.42194824, 58.83401725, 49.92674119, 46.53391425, 50.66871709,\n",
              "       58.27573705, 43.41680155, 53.08344859, 52.63360124, 56.89841427,\n",
              "       43.91624645, 54.16346785, 49.63708293, 41.10010679, 42.88174845,\n",
              "       49.92150211, 45.7097469 , 51.67478283, 52.30418944, 45.72780317,\n",
              "       55.53568161, 51.09949089, 51.95615082, 56.25279908, 49.46496324,\n",
              "       46.50931061, 56.41184394, 47.31545937, 49.42391033, 47.16736477,\n",
              "       42.74210602, 51.20489445, 46.46795845, 50.02625007, 50.54070153,\n",
              "       47.58268835, 42.40099431, 53.55457749, 53.8289559 , 56.65533817,\n",
              "       51.05481254, 57.97472393, 55.67557134, 48.91269805, 49.73060129,\n",
              "       47.26449199, 47.17836444, 42.96851839, 53.01424832, 52.16604557,\n",
              "       47.12679319, 50.36973424, 57.72294318, 47.13401038, 52.90947584,\n",
              "       53.82761989, 54.16968528, 50.76269816, 53.08378394, 44.38664522,\n",
              "       45.25377984, 45.9682412 , 50.05489507, 50.95313773, 50.62121221,\n",
              "       49.28302904, 48.21839907, 46.84405856, 46.78955407, 48.27893759,\n",
              "       47.3533004 , 45.83393084, 45.59784972, 47.28822713, 45.33220889,\n",
              "       46.78201598, 51.65492913, 49.06855567, 48.04177812, 47.53420652,\n",
              "       57.14729884, 46.81567119, 53.63502606, 50.10925921, 52.35961552,\n",
              "       51.50469234, 50.00836167, 45.99484071, 50.34429422, 53.85337177,\n",
              "       47.64463394, 47.89853451, 43.30263352, 46.99173206, 53.9732964 ,\n",
              "       41.20548354, 51.08755127, 58.15923022, 46.32509018, 44.97151601,\n",
              "       42.48885974, 51.4016865 , 51.04123754, 49.64751426, 46.02346479,\n",
              "       53.58044402, 53.97670606, 48.22329519, 55.53063587, 53.14022906,\n",
              "       58.26389305, 33.02176391, 48.90721258, 41.32114149, 48.5669655 ,\n",
              "       51.58151931, 52.94768522, 49.56181555, 57.1970621 , 48.64027313,\n",
              "       57.98341265, 48.87435494, 51.51770757, 53.74834183, 41.68028426,\n",
              "       46.38416767, 48.60824804, 50.54061843, 51.77925997, 47.35316157,\n",
              "       45.7797083 , 49.96847548, 48.20253953, 34.7929038 , 50.49594849,\n",
              "       48.26047144, 43.70355845, 46.2936302 , 49.09826916, 45.4482045 ,\n",
              "       45.29302936, 53.5601677 , 46.30780386, 49.64588751, 44.51055225,\n",
              "       47.06444198, 44.26805143, 50.86328849, 54.76158433, 51.55654587,\n",
              "       51.12219808, 56.82414875, 49.82871439, 45.65809755, 52.5979123 ,\n",
              "       47.43025631, 50.96416326, 50.6725873 , 50.83661605, 49.17635858,\n",
              "       44.36361468, 41.32015444, 57.9700207 , 46.61881001, 45.76829695,\n",
              "       44.3629763 , 49.35715474, 50.44584061, 47.02229125, 43.32555937,\n",
              "       54.33250025, 44.96599784, 56.83842744, 47.63254979, 47.4633237 ,\n",
              "       50.93877197, 43.75426384, 57.03812151, 46.3453766 , 56.24909037,\n",
              "       54.01524365, 45.51988868, 54.74425699, 47.3434517 , 42.13115123,\n",
              "       50.67215954, 42.19964707, 44.50529545, 40.09805907, 52.76913632,\n",
              "       55.00529738, 40.86681096, 53.31487146, 49.12054861, 53.42402754,\n",
              "       47.13595049, 55.94265952, 48.90828043, 52.50654905, 62.99464956,\n",
              "       45.92517292, 62.40240716, 58.62537997, 46.59348418, 46.86920328,\n",
              "       43.2613039 , 48.14684255, 41.61332655, 41.79577438, 52.10938516,\n",
              "       51.92560523, 51.75115869, 40.33528552, 53.61015702, 42.61155023,\n",
              "       49.1464799 , 55.08885097, 44.30105257, 50.8169018 , 55.46076532,\n",
              "       49.56573777, 50.18145822, 42.43939354, 51.28820382, 50.3698688 ,\n",
              "       46.16523189, 49.00134138, 45.96326902, 46.89794321, 50.15564836,\n",
              "       38.15640359, 46.11894692, 49.50787352, 61.02046474, 36.33893731,\n",
              "       47.85122732, 37.77946555, 58.66760987, 50.75398717, 53.12423986,\n",
              "       50.64316699, 52.42284225, 51.44578814, 44.74651232, 52.21873781,\n",
              "       65.76207644, 53.62643951, 45.81551059, 60.997632  , 42.3173004 ,\n",
              "       41.47416454, 50.38510182, 49.50092204, 49.55899124, 44.59327798,\n",
              "       56.61793339, 40.86658281, 58.71431659, 49.61408377, 48.04076797,\n",
              "       53.77443558, 48.0540761 , 47.8741486 , 48.57774238, 48.85433368,\n",
              "       54.52749772, 47.71753771, 50.66162519, 54.65795917, 48.57461194,\n",
              "       57.53636417, 53.36636343, 52.49746435, 49.9033304 , 57.28802784,\n",
              "       49.01936886, 46.73209743, 51.91568872, 49.67785706, 50.03351604,\n",
              "       48.95028461, 50.77139242, 48.94644502, 44.80034304, 46.54560463,\n",
              "       49.93066808, 48.47457627, 49.43683179, 56.0735639 , 42.43658999,\n",
              "       56.5500361 , 50.59537975, 46.50277975, 58.1851541 , 52.04457291,\n",
              "       50.61510116, 53.29414813, 50.5277428 , 48.68103128, 47.30458255,\n",
              "       43.02639664, 44.92405735, 55.30099945, 54.90358981, 53.08850069,\n",
              "       58.84635972, 49.89821592, 47.78425258, 52.64777355, 44.19246347,\n",
              "       45.57153933, 45.07271587, 43.26173524, 43.20973566, 47.73038806,\n",
              "       42.46407724, 43.82772989, 54.16354294, 46.60398948, 53.74007693,\n",
              "       35.96450117, 49.17466474, 50.83499386, 46.73756495, 42.19822002,\n",
              "       45.02788217, 48.01953745, 39.4648118 , 51.75849906, 52.5730313 ,\n",
              "       59.67345344, 49.23695432, 42.12050337, 46.84202316, 46.00142337,\n",
              "       53.76302173, 51.79685343, 49.57509992, 45.89082352, 51.96841595,\n",
              "       44.73678371, 48.0045493 , 59.74119076, 50.9520374 , 46.98068687,\n",
              "       44.43430537, 53.96112987, 47.93473247, 53.80667937, 50.74117204,\n",
              "       46.02047869, 54.6531864 , 37.64233059, 50.20198653, 51.71833049,\n",
              "       49.44879545, 60.72711802, 49.35740787, 55.10417851, 39.09990224,\n",
              "       57.38432711, 53.04558769, 39.47176383, 52.03160705, 45.73302052,\n",
              "       39.23197095, 50.79735574, 51.85565045, 48.44453376, 43.40208028,\n",
              "       48.88287032, 60.44121877, 59.0138368 , 51.8832177 , 55.2145695 ,\n",
              "       53.30449707, 47.8002746 , 51.30999462, 54.86345585, 59.8056239 ,\n",
              "       47.24747492, 55.96192752, 50.88819824, 41.22389558, 36.62852345,\n",
              "       51.87227946, 53.35490111, 56.6477403 , 49.85184575, 42.21866585,\n",
              "       47.45734717, 50.70843123, 43.29134777, 43.99883503, 50.64901196,\n",
              "       51.39803204, 47.36439801, 48.52051817, 46.75683034, 52.32407007,\n",
              "       41.54286691, 45.92078351, 50.74783671, 40.13572434, 50.31570734,\n",
              "       49.68368362, 43.02789556, 48.90794693, 44.9663081 , 50.20772755,\n",
              "       60.45564335, 54.88518754, 52.45465063, 49.47296449, 51.70238872,\n",
              "       49.49791229, 50.17393794, 52.84431755, 47.49021435, 43.40515557,\n",
              "       50.89532558, 40.68889468, 41.89011836, 48.56226247, 52.30280035,\n",
              "       55.206148  , 46.05360585, 47.58578036, 52.49115124, 49.36895822,\n",
              "       49.86950728, 44.52671859, 50.46600168, 49.53426768, 39.47668674,\n",
              "       47.65527792, 53.33378363, 52.46143858, 49.56164937, 53.96492709,\n",
              "       46.19260279, 53.43603271, 40.79314657, 46.61736586, 46.49136659,\n",
              "       54.69904093, 51.4265995 , 42.85867108, 51.90941245, 47.00027743,\n",
              "       47.0010406 , 47.27523698, 45.04195715, 43.81545768, 52.09500762,\n",
              "       50.6173987 , 58.99877688, 44.61985642, 44.0170228 , 42.53907758,\n",
              "       47.20508829, 40.11084794, 46.74104372, 56.01466988, 43.51744019,\n",
              "       44.56350765, 52.08168991, 51.79669771, 51.63545857, 49.99262604,\n",
              "       43.11214096, 55.73225926, 52.29580189, 49.78307353, 51.1220525 ,\n",
              "       46.31107705, 50.80964878, 56.9398086 , 59.26542151, 52.80803764,\n",
              "       57.32427303, 54.40151509, 55.57344523, 48.34094586, 50.27313576,\n",
              "       49.20417986, 58.82497424, 56.74772954, 50.03579541, 56.89961273,\n",
              "       48.63467995, 51.92440375, 45.97643682, 53.23875928, 53.16992669,\n",
              "       46.77724574, 52.54171853, 48.87916261, 53.30663976, 49.70825257,\n",
              "       42.29696522, 45.63180772, 51.18756754, 48.67961386, 44.1398393 ,\n",
              "       42.38804885, 54.83114499, 57.46664504, 53.37120893, 38.87929146,\n",
              "       50.69121943, 50.19693472, 49.75575696, 48.62768528, 50.1236408 ,\n",
              "       51.87985891, 52.78367795, 48.19538969, 44.65728388, 49.04003812,\n",
              "       44.84175309, 56.26785991, 45.3241509 , 53.58911463, 56.38432541,\n",
              "       47.87425048, 60.46256868, 51.14544194, 49.31502751, 54.87945036,\n",
              "       52.89865164, 50.13169378, 51.54791198, 60.28815285, 46.79102027,\n",
              "       50.40850466, 41.5439753 , 43.77510325, 52.49063514, 55.63888606,\n",
              "       45.36304378, 49.69353674, 48.82205276, 41.26380032, 47.38020108,\n",
              "       37.64302623, 43.41677507, 45.82199705, 54.17603835, 53.44476748,\n",
              "       51.52691719, 42.51095938, 51.36352202, 53.01941601, 39.79140149,\n",
              "       52.92445855, 53.21866965, 54.93854992, 48.47032981, 44.3444672 ,\n",
              "       56.46828896, 45.01899852, 41.88844707, 56.15388841, 42.15304609,\n",
              "       50.65261895, 49.4807881 , 53.30957418, 40.05131909, 52.57042824,\n",
              "       55.37435656, 50.43544312, 40.1478799 , 42.52796951, 54.85558294,\n",
              "       36.40156201, 49.38527133, 48.56321364, 41.59086303, 51.81913798,\n",
              "       50.76668182, 48.77332311, 49.82932727, 57.02671862, 55.58156465,\n",
              "       56.01744484, 51.88070142, 48.49261353, 44.41780335, 45.27662247,\n",
              "       53.19983131, 44.78860736, 53.55567335, 50.9162717 , 50.25339753,\n",
              "       51.81156947, 56.00831506, 50.30829979, 51.65177944, 49.31186277,\n",
              "       47.13744827, 52.05943713, 54.1260507 , 53.76666871, 48.52117905,\n",
              "       47.08220661, 51.42396159, 54.83996008, 44.25522429, 39.06294999,\n",
              "       47.10081008, 50.44827622, 41.29365186, 46.62018482, 55.40996705,\n",
              "       54.47301819, 56.25896909, 51.57851358, 46.15485435, 49.87078503,\n",
              "       42.46617496, 51.59931601, 44.10685585, 51.76190589, 45.92997338,\n",
              "       55.22139527, 55.96617577, 52.91028069, 52.48847331, 49.28650576,\n",
              "       47.91577384, 46.87333139, 54.0567844 , 42.53410028, 53.43461569,\n",
              "       50.71970121, 53.80729944, 55.06416863, 55.97054789, 51.34559051,\n",
              "       52.41041023, 53.58863146, 49.65095877, 41.0064952 , 42.84755961,\n",
              "       57.07863291, 50.06525532, 55.57106645, 49.9106941 , 44.39391752,\n",
              "       52.5441128 , 45.06823238, 52.02403509, 49.65016225, 51.05968578,\n",
              "       49.41436184, 53.90499799, 40.65459494, 57.56951013, 43.47453467,\n",
              "       54.69128743, 46.96235341, 52.42827664, 52.84411444, 54.22492649,\n",
              "       46.53099014, 50.17673755, 46.24317245, 55.32289023, 48.33181701,\n",
              "       51.32119147, 48.03437282, 46.82747555, 46.60290076, 53.05035167,\n",
              "       53.94664754, 43.54879287, 59.71079525, 51.22436283, 53.14560771,\n",
              "       51.17951604, 48.46861857, 56.05306087, 41.08808398, 40.61522117,\n",
              "       45.95004462, 39.4636065 , 48.74001834, 54.54673991, 51.00458779,\n",
              "       46.44839566, 50.27626424, 42.546239  , 69.21245014, 46.2475506 ,\n",
              "       51.76928285, 52.21575483, 52.40495011, 58.11914015, 54.70394055,\n",
              "       57.39311977, 48.4295027 , 50.87482068, 44.42916939, 50.34060193,\n",
              "       50.93447788, 61.46457905, 60.76422874, 52.42617518, 51.86560069,\n",
              "       41.62668772, 45.66014884, 54.39074353, 51.99815111, 44.03874025,\n",
              "       46.00025631, 47.58023743, 43.61950381, 46.62813926, 48.00426653,\n",
              "       52.39394858, 57.79143873, 54.03760076, 51.16771896, 46.93939918,\n",
              "       63.29788851, 57.05355839, 50.50872818, 45.20124831, 47.06428007,\n",
              "       48.3616518 , 53.64517376, 39.51532996, 54.77324316, 46.99002397,\n",
              "       53.12466204, 49.82636904, 58.4565065 , 52.49287978, 42.50265973,\n",
              "       53.97133921, 61.18244321, 52.8580552 , 50.39510189, 58.69965962,\n",
              "       58.28102986, 48.03270033, 44.79786876, 54.85703992, 48.15847627,\n",
              "       41.48643904, 45.67847923, 52.22276668, 63.44412914, 51.62344011,\n",
              "       52.75613069, 52.66442933, 55.9863759 , 48.77609728, 47.31489562,\n",
              "       53.12572505, 50.87392378, 48.67494476, 40.65967618, 52.12063598,\n",
              "       55.08184589, 58.82240774, 46.52896826, 53.73166118, 49.03238481,\n",
              "       50.85787487, 48.09736785, 49.58553013, 40.81763546, 40.53788208,\n",
              "       50.46531221, 48.49815669, 47.08788163, 47.25466208, 49.32742332,\n",
              "       40.41137602, 57.65786683, 50.31523656, 47.7047723 , 51.01278059,\n",
              "       44.65965601, 50.09054266, 50.0908701 , 46.64289837, 44.47703786,\n",
              "       46.14361654, 55.40327949, 48.31103759, 47.93280084, 54.10370521,\n",
              "       56.45710714, 53.11118666, 49.70152604, 44.33492073, 52.65330917,\n",
              "       49.6266419 , 54.56643256, 50.4610263 , 47.6512686 , 47.03672834,\n",
              "       44.17206603, 57.36921918, 58.87954456, 43.54369498, 51.74340327,\n",
              "       52.08575649, 42.87979943, 49.54190081, 51.09200387, 39.39505564,\n",
              "       56.32167958, 51.78405308, 46.75616974, 49.53944374, 51.7102235 ,\n",
              "       53.70836988, 46.67288847, 49.36922452, 55.09655289, 42.75934797,\n",
              "       42.82825979, 42.46179681, 47.53691153, 52.23713914, 52.6433283 ])"
            ]
          },
          "metadata": {},
          "execution_count": 3
        }
      ]
    },
    {
      "cell_type": "code",
      "source": [
        "sample.mean()"
      ],
      "metadata": {
        "id": "qZ-YyCrpGxxc",
        "outputId": "f72efaba-7c0f-4cef-a685-03a567b902e6",
        "colab": {
          "base_uri": "https://localhost:8080/"
        }
      },
      "execution_count": 4,
      "outputs": [
        {
          "output_type": "execute_result",
          "data": {
            "text/plain": [
              "np.float64(49.76686027091724)"
            ]
          },
          "metadata": {},
          "execution_count": 4
        }
      ]
    },
    {
      "cell_type": "code",
      "source": [
        "# plot histogram to understand the distribution of data\n",
        "plt.hist(sample, bins=10)\n",
        "plt.show()"
      ],
      "metadata": {
        "id": "C13V5XhKG3yt",
        "outputId": "99210588-1f82-429e-ab5c-88cd75755eda",
        "colab": {
          "base_uri": "https://localhost:8080/",
          "height": 430
        }
      },
      "execution_count": 5,
      "outputs": [
        {
          "output_type": "display_data",
          "data": {
            "text/plain": [
              "<Figure size 640x480 with 1 Axes>"
            ],
            "image/png": "[encoded data removed]"
          },
          "metadata": {}
        }
      ]
    },
    {
      "cell_type": "code",
      "source": [
        "sample_mean=sample.mean()\n",
        "sample_std=sample.std()"
      ],
      "metadata": {
        "id": "BbtLF_ZOHH3E"
      },
      "execution_count": 6,
      "outputs": []
    },
    {
      "cell_type": "code",
      "source": [
        "# fit the distribution with the above parameters\n",
        "\n",
        "from scipy.stats import norm\n",
        "dist=norm(loc=sample_mean, scale=sample_std)"
      ],
      "metadata": {
        "id": "V9nmTZIgHOWa"
      },
      "execution_count": 7,
      "outputs": []
    },
    {
      "cell_type": "code",
      "source": [
        "#  here I am just generaating 100 value between my dta min and data max , it would take the value of x in the PDF of normal dist and calculate prob density for each data point.\n",
        "values=np.linspace(sample.min(),sample.max(),100)\n"
      ],
      "metadata": {
        "id": "JWlD0v86HqyP"
      },
      "execution_count": 13,
      "outputs": []
    },
    {
      "cell_type": "code",
      "source": [
        "# ye code har ek value pe iterate kr rha hai in the array values and uss value ko as x bhej rha hai hai a function called pdf jo calculate kr rha hai prob density for each data point from saple_mean to sample_max.\n",
        "probability_density=[dist.pdf(value) for value in values]\n"
      ],
      "metadata": {
        "id": "jQfjr4l2H6Kn"
      },
      "execution_count": 14,
      "outputs": []
    },
    {
      "cell_type": "code",
      "source": [
        "plt.hist(sample,bins =10, density=True)\n",
        "plt.plot(values,probability_density,'r')\n",
        "plt.show()"
      ],
      "metadata": {
        "id": "6wUDeOmfJd5B",
        "outputId": "e83c295a-69d4-496d-bf4c-a53e5eb2f6a0",
        "colab": {
          "base_uri": "https://localhost:8080/",
          "height": 430
        }
      },
      "execution_count": 15,
      "outputs": [
        {
          "output_type": "display_data",
          "data": {
            "text/plain": [
              "<Figure size 640x480 with 1 Axes>"
            ],
            "image/png": "[encoded data removed]"
          },
          "metadata": {}
        }
      ]
    }
  ]
}